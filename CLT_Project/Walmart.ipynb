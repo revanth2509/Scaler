{
 "cells": [
  {
   "cell_type": "code",
   "execution_count": 85,
   "metadata": {},
   "outputs": [],
   "source": [
    "import pandas as pd\n",
    "import seaborn as sns\n",
    "import numpy as np\n",
    "from scipy.stats import norm\n",
    "import matplotlib.pyplot as plt"
   ]
  },
  {
   "cell_type": "code",
   "execution_count": 2,
   "metadata": {},
   "outputs": [],
   "source": [
    "df = pd.read_csv(\"walmart_data.csv\")"
   ]
  },
  {
   "cell_type": "code",
   "execution_count": 3,
   "metadata": {},
   "outputs": [
    {
     "data": {
      "text/html": [
       "<div>\n",
       "<style scoped>\n",
       "    .dataframe tbody tr th:only-of-type {\n",
       "        vertical-align: middle;\n",
       "    }\n",
       "\n",
       "    .dataframe tbody tr th {\n",
       "        vertical-align: top;\n",
       "    }\n",
       "\n",
       "    .dataframe thead th {\n",
       "        text-align: right;\n",
       "    }\n",
       "</style>\n",
       "<table border=\"1\" class=\"dataframe\">\n",
       "  <thead>\n",
       "    <tr style=\"text-align: right;\">\n",
       "      <th></th>\n",
       "      <th>User_ID</th>\n",
       "      <th>Product_ID</th>\n",
       "      <th>Gender</th>\n",
       "      <th>Age</th>\n",
       "      <th>Occupation</th>\n",
       "      <th>City_Category</th>\n",
       "      <th>Stay_In_Current_City_Years</th>\n",
       "      <th>Marital_Status</th>\n",
       "      <th>Product_Category</th>\n",
       "      <th>Purchase</th>\n",
       "    </tr>\n",
       "  </thead>\n",
       "  <tbody>\n",
       "    <tr>\n",
       "      <th>0</th>\n",
       "      <td>1000001</td>\n",
       "      <td>P00069042</td>\n",
       "      <td>F</td>\n",
       "      <td>0-17</td>\n",
       "      <td>10</td>\n",
       "      <td>A</td>\n",
       "      <td>2</td>\n",
       "      <td>0</td>\n",
       "      <td>3</td>\n",
       "      <td>8370</td>\n",
       "    </tr>\n",
       "    <tr>\n",
       "      <th>1</th>\n",
       "      <td>1000001</td>\n",
       "      <td>P00248942</td>\n",
       "      <td>F</td>\n",
       "      <td>0-17</td>\n",
       "      <td>10</td>\n",
       "      <td>A</td>\n",
       "      <td>2</td>\n",
       "      <td>0</td>\n",
       "      <td>1</td>\n",
       "      <td>15200</td>\n",
       "    </tr>\n",
       "    <tr>\n",
       "      <th>2</th>\n",
       "      <td>1000001</td>\n",
       "      <td>P00087842</td>\n",
       "      <td>F</td>\n",
       "      <td>0-17</td>\n",
       "      <td>10</td>\n",
       "      <td>A</td>\n",
       "      <td>2</td>\n",
       "      <td>0</td>\n",
       "      <td>12</td>\n",
       "      <td>1422</td>\n",
       "    </tr>\n",
       "  </tbody>\n",
       "</table>\n",
       "</div>"
      ],
      "text/plain": [
       "   User_ID Product_ID Gender   Age  Occupation City_Category  \\\n",
       "0  1000001  P00069042      F  0-17          10             A   \n",
       "1  1000001  P00248942      F  0-17          10             A   \n",
       "2  1000001  P00087842      F  0-17          10             A   \n",
       "\n",
       "  Stay_In_Current_City_Years  Marital_Status  Product_Category  Purchase  \n",
       "0                          2               0                 3      8370  \n",
       "1                          2               0                 1     15200  \n",
       "2                          2               0                12      1422  "
      ]
     },
     "execution_count": 3,
     "metadata": {},
     "output_type": "execute_result"
    }
   ],
   "source": [
    "df.head(3)"
   ]
  },
  {
   "cell_type": "code",
   "execution_count": 4,
   "metadata": {},
   "outputs": [
    {
     "data": {
      "text/plain": [
       "(550068, 10)"
      ]
     },
     "execution_count": 4,
     "metadata": {},
     "output_type": "execute_result"
    }
   ],
   "source": [
    "df.shape"
   ]
  },
  {
   "cell_type": "code",
   "execution_count": 5,
   "metadata": {},
   "outputs": [
    {
     "data": {
      "text/html": [
       "<div>\n",
       "<style scoped>\n",
       "    .dataframe tbody tr th:only-of-type {\n",
       "        vertical-align: middle;\n",
       "    }\n",
       "\n",
       "    .dataframe tbody tr th {\n",
       "        vertical-align: top;\n",
       "    }\n",
       "\n",
       "    .dataframe thead th {\n",
       "        text-align: right;\n",
       "    }\n",
       "</style>\n",
       "<table border=\"1\" class=\"dataframe\">\n",
       "  <thead>\n",
       "    <tr style=\"text-align: right;\">\n",
       "      <th></th>\n",
       "      <th>User_ID</th>\n",
       "      <th>Occupation</th>\n",
       "      <th>Marital_Status</th>\n",
       "      <th>Product_Category</th>\n",
       "      <th>Purchase</th>\n",
       "    </tr>\n",
       "  </thead>\n",
       "  <tbody>\n",
       "    <tr>\n",
       "      <th>User_ID</th>\n",
       "      <td>1.000000</td>\n",
       "      <td>-0.023971</td>\n",
       "      <td>0.020443</td>\n",
       "      <td>0.003825</td>\n",
       "      <td>0.004716</td>\n",
       "    </tr>\n",
       "    <tr>\n",
       "      <th>Occupation</th>\n",
       "      <td>-0.023971</td>\n",
       "      <td>1.000000</td>\n",
       "      <td>0.024280</td>\n",
       "      <td>-0.007618</td>\n",
       "      <td>0.020833</td>\n",
       "    </tr>\n",
       "    <tr>\n",
       "      <th>Marital_Status</th>\n",
       "      <td>0.020443</td>\n",
       "      <td>0.024280</td>\n",
       "      <td>1.000000</td>\n",
       "      <td>0.019888</td>\n",
       "      <td>-0.000463</td>\n",
       "    </tr>\n",
       "    <tr>\n",
       "      <th>Product_Category</th>\n",
       "      <td>0.003825</td>\n",
       "      <td>-0.007618</td>\n",
       "      <td>0.019888</td>\n",
       "      <td>1.000000</td>\n",
       "      <td>-0.343703</td>\n",
       "    </tr>\n",
       "    <tr>\n",
       "      <th>Purchase</th>\n",
       "      <td>0.004716</td>\n",
       "      <td>0.020833</td>\n",
       "      <td>-0.000463</td>\n",
       "      <td>-0.343703</td>\n",
       "      <td>1.000000</td>\n",
       "    </tr>\n",
       "  </tbody>\n",
       "</table>\n",
       "</div>"
      ],
      "text/plain": [
       "                   User_ID  Occupation  Marital_Status  Product_Category  \\\n",
       "User_ID           1.000000   -0.023971        0.020443          0.003825   \n",
       "Occupation       -0.023971    1.000000        0.024280         -0.007618   \n",
       "Marital_Status    0.020443    0.024280        1.000000          0.019888   \n",
       "Product_Category  0.003825   -0.007618        0.019888          1.000000   \n",
       "Purchase          0.004716    0.020833       -0.000463         -0.343703   \n",
       "\n",
       "                  Purchase  \n",
       "User_ID           0.004716  \n",
       "Occupation        0.020833  \n",
       "Marital_Status   -0.000463  \n",
       "Product_Category -0.343703  \n",
       "Purchase          1.000000  "
      ]
     },
     "execution_count": 5,
     "metadata": {},
     "output_type": "execute_result"
    }
   ],
   "source": [
    "df.corr()"
   ]
  },
  {
   "cell_type": "code",
   "execution_count": 6,
   "metadata": {},
   "outputs": [
    {
     "data": {
      "text/plain": [
       "<AxesSubplot:>"
      ]
     },
     "execution_count": 6,
     "metadata": {},
     "output_type": "execute_result"
    },
    {
     "data": {
      "image/png": "[encoded data removed]",
      "text/plain": [
       "<Figure size 640x480 with 2 Axes>"
      ]
     },
     "metadata": {},
     "output_type": "display_data"
    }
   ],
   "source": [
    "sns.heatmap(df.corr(),annot=True)"
   ]
  },
  {
   "cell_type": "code",
   "execution_count": 71,
   "metadata": {},
   "outputs": [
    {
     "data": {
      "text/html": [
       "<div>\n",
       "<style scoped>\n",
       "    .dataframe tbody tr th:only-of-type {\n",
       "        vertical-align: middle;\n",
       "    }\n",
       "\n",
       "    .dataframe tbody tr th {\n",
       "        vertical-align: top;\n",
       "    }\n",
       "\n",
       "    .dataframe thead th {\n",
       "        text-align: right;\n",
       "    }\n",
       "</style>\n",
       "<table border=\"1\" class=\"dataframe\">\n",
       "  <thead>\n",
       "    <tr style=\"text-align: right;\">\n",
       "      <th></th>\n",
       "      <th>User_ID</th>\n",
       "      <th>Occupation</th>\n",
       "      <th>Marital_Status</th>\n",
       "      <th>Product_Category</th>\n",
       "      <th>Purchase</th>\n",
       "    </tr>\n",
       "  </thead>\n",
       "  <tbody>\n",
       "    <tr>\n",
       "      <th>count</th>\n",
       "      <td>5.500680e+05</td>\n",
       "      <td>550068.000000</td>\n",
       "      <td>550068.000000</td>\n",
       "      <td>550068.000000</td>\n",
       "      <td>550068.000000</td>\n",
       "    </tr>\n",
       "    <tr>\n",
       "      <th>mean</th>\n",
       "      <td>1.003029e+06</td>\n",
       "      <td>8.076707</td>\n",
       "      <td>0.409653</td>\n",
       "      <td>5.404270</td>\n",
       "      <td>9263.968713</td>\n",
       "    </tr>\n",
       "    <tr>\n",
       "      <th>std</th>\n",
       "      <td>1.727592e+03</td>\n",
       "      <td>6.522660</td>\n",
       "      <td>0.491770</td>\n",
       "      <td>3.936211</td>\n",
       "      <td>5023.065394</td>\n",
       "    </tr>\n",
       "    <tr>\n",
       "      <th>min</th>\n",
       "      <td>1.000001e+06</td>\n",
       "      <td>0.000000</td>\n",
       "      <td>0.000000</td>\n",
       "      <td>1.000000</td>\n",
       "      <td>12.000000</td>\n",
       "    </tr>\n",
       "    <tr>\n",
       "      <th>25%</th>\n",
       "      <td>1.001516e+06</td>\n",
       "      <td>2.000000</td>\n",
       "      <td>0.000000</td>\n",
       "      <td>1.000000</td>\n",
       "      <td>5823.000000</td>\n",
       "    </tr>\n",
       "    <tr>\n",
       "      <th>50%</th>\n",
       "      <td>1.003077e+06</td>\n",
       "      <td>7.000000</td>\n",
       "      <td>0.000000</td>\n",
       "      <td>5.000000</td>\n",
       "      <td>8047.000000</td>\n",
       "    </tr>\n",
       "    <tr>\n",
       "      <th>75%</th>\n",
       "      <td>1.004478e+06</td>\n",
       "      <td>14.000000</td>\n",
       "      <td>1.000000</td>\n",
       "      <td>8.000000</td>\n",
       "      <td>12054.000000</td>\n",
       "    </tr>\n",
       "    <tr>\n",
       "      <th>max</th>\n",
       "      <td>1.006040e+06</td>\n",
       "      <td>20.000000</td>\n",
       "      <td>1.000000</td>\n",
       "      <td>20.000000</td>\n",
       "      <td>23961.000000</td>\n",
       "    </tr>\n",
       "  </tbody>\n",
       "</table>\n",
       "</div>"
      ],
      "text/plain": [
       "            User_ID     Occupation  Marital_Status  Product_Category  \\\n",
       "count  5.500680e+05  550068.000000   550068.000000     550068.000000   \n",
       "mean   1.003029e+06       8.076707        0.409653          5.404270   \n",
       "std    1.727592e+03       6.522660        0.491770          3.936211   \n",
       "min    1.000001e+06       0.000000        0.000000          1.000000   \n",
       "25%    1.001516e+06       2.000000        0.000000          1.000000   \n",
       "50%    1.003077e+06       7.000000        0.000000          5.000000   \n",
       "75%    1.004478e+06      14.000000        1.000000          8.000000   \n",
       "max    1.006040e+06      20.000000        1.000000         20.000000   \n",
       "\n",
       "            Purchase  \n",
       "count  550068.000000  \n",
       "mean     9263.968713  \n",
       "std      5023.065394  \n",
       "min        12.000000  \n",
       "25%      5823.000000  \n",
       "50%      8047.000000  \n",
       "75%     12054.000000  \n",
       "max     23961.000000  "
      ]
     },
     "execution_count": 71,
     "metadata": {},
     "output_type": "execute_result"
    }
   ],
   "source": [
    "df.describe()"
   ]
  },
  {
   "cell_type": "code",
   "execution_count": 73,
   "metadata": {},
   "outputs": [
    {
     "data": {
      "text/plain": [
       "<AxesSubplot:xlabel='Gender', ylabel='Purchase'>"
      ]
     },
     "execution_count": 73,
     "metadata": {},
     "output_type": "execute_result"
    },
    {
     "data": {
      "image/png": "[encoded data removed]",
      "text/plain": [
       "<Figure size 640x480 with 1 Axes>"
      ]
     },
     "metadata": {},
     "output_type": "display_data"
    }
   ],
   "source": [
    "sns.boxplot(data=df,x=\"Gender\",y=\"Purchase\",hue=\"City_Category\")"
   ]
  },
  {
   "cell_type": "code",
   "execution_count": 74,
   "metadata": {},
   "outputs": [
    {
     "data": {
      "text/plain": [
       "<AxesSubplot:xlabel='Gender', ylabel='Purchase'>"
      ]
     },
     "execution_count": 74,
     "metadata": {},
     "output_type": "execute_result"
    },
    {
     "data": {
      "image/png": "[encoded data removed]",
      "text/plain": [
       "<Figure size 640x480 with 1 Axes>"
      ]
     },
     "metadata": {},
     "output_type": "display_data"
    }
   ],
   "source": [
    "sns.boxplot(data=df,x=\"Gender\",y=\"Purchase\",hue=\"Marital_Status\")"
   ]
  },
  {
   "cell_type": "code",
   "execution_count": 7,
   "metadata": {},
   "outputs": [
    {
     "data": {
      "text/plain": [
       "Gender\n",
       "F    8734.565765\n",
       "M    9437.526040\n",
       "Name: Purchase, dtype: float64"
      ]
     },
     "execution_count": 7,
     "metadata": {},
     "output_type": "execute_result"
    }
   ],
   "source": [
    "df.groupby([\"Gender\"])[\"Purchase\"].mean()"
   ]
  },
  {
   "cell_type": "code",
   "execution_count": 66,
   "metadata": {},
   "outputs": [
    {
     "name": "stdout",
     "output_type": "stream",
     "text": [
      "0.24689492935418894\n",
      "0.7531050706458111\n"
     ]
    }
   ],
   "source": [
    "print(df[df[\"Gender\"] == \"F\"].shape[0]/df.shape[0])# Female Probabilty of purchasing\n",
    "print(1 - df[df[\"Gender\"] == \"F\"].shape[0]/df.shape[0]) # Male Probabilty of purchasing"
   ]
  },
  {
   "attachments": {},
   "cell_type": "markdown",
   "metadata": {},
   "source": [
    "# Gender"
   ]
  },
  {
   "attachments": {},
   "cell_type": "markdown",
   "metadata": {},
   "source": [
    "1. 95% Confidence interval"
   ]
  },
  {
   "cell_type": "code",
   "execution_count": 67,
   "metadata": {},
   "outputs": [
    {
     "name": "stdout",
     "output_type": "stream",
     "text": [
      "Confidence interval for female customers: (8431.818847341126, 9022.769032658869)\n"
     ]
    }
   ],
   "source": [
    "female_sample_mean = []\n",
    "for i in range(100):\n",
    "    female_sample_mean.append(np.random.choice(df[df[\"Gender\"] == \"F\"][\"Purchase\"],1000).mean())\n",
    "clt1 = np.mean(female_sample_mean) - (1.96*np.std(df[df[\"Gender\"] == \"F\"][\"Purchase\"])/np.sqrt(1000))\n",
    "clt2 = np.mean(female_sample_mean) + (1.96*np.std(df[df[\"Gender\"] == \"F\"][\"Purchase\"])/np.sqrt(1000))\n",
    "\n",
    "print(\"Confidence interval for female customers: ({}, {})\".format(clt1, clt2))\n",
    "\n",
    "# 95% confidence interval for female customers buying in the range of (8431.818847341126, 9022.769032658869)\n",
    "# The actual population mean for female customers = 8734.565765\n",
    "# our sample confidence interval proves that 95% of female customers are buying in the range of 8431.82 - 9022.76"
   ]
  },
  {
   "cell_type": "code",
   "execution_count": 10,
   "metadata": {},
   "outputs": [
    {
     "name": "stdout",
     "output_type": "stream",
     "text": [
      "Confidence interval for Male customers: (9336.350516052735, 9535.963974547263)\n"
     ]
    }
   ],
   "source": [
    "male_sample_mean = []\n",
    "for i in range(100):\n",
    "    male_sample_mean.append(np.random.choice(df[df[\"Gender\"] == \"M\"][\"Purchase\"],1000).mean())\n",
    "clt1 = np.mean(male_sample_mean) - (1.96*np.std(df[df[\"Gender\"] == \"M\"][\"Purchase\"])/np.sqrt(1000))\n",
    "clt2 = np.mean(male_sample_mean) + (1.96*np.std(df[df[\"Gender\"] == \"M\"][\"Purchase\"])/np.sqrt(1000))\n",
    "\n",
    "print(\"Confidence interval for Male customers: ({}, {})\".format(clt1, clt2))\n",
    "\n",
    "# 95% confidence interval for male customers buying in the range of (9336.350516052735, 9535.963974547263)\n",
    "# The actual population mean for male customers = 9437.526040\n",
    "# our sample confidence interval proves that 95% of male customers are buying in the range of 9336.35 - 9535.96"
   ]
  },
  {
   "attachments": {},
   "cell_type": "markdown",
   "metadata": {},
   "source": [
    "2. 99% Confidence Interval"
   ]
  },
  {
   "cell_type": "code",
   "execution_count": 11,
   "metadata": {},
   "outputs": [
    {
     "name": "stdout",
     "output_type": "stream",
     "text": [
      "Confidence interval for female customers: (8373.068243449497, 9074.474216550503)\n"
     ]
    }
   ],
   "source": [
    "f_sample_size = 1000\n",
    "female_sample_mean = []\n",
    "for i in range(100):\n",
    "    female_sample_mean.append(np.random.choice(df[df[\"Gender\"] == \"F\"][\"Purchase\"],f_sample_size).mean())\n",
    "clt1 = np.mean(female_sample_mean) - (norm.ppf(0.99)*np.std(df[df[\"Gender\"] == \"F\"][\"Purchase\"])/np.sqrt(f_sample_size))\n",
    "clt2 = np.mean(female_sample_mean) + (norm.ppf(0.99)*np.std(df[df[\"Gender\"] == \"F\"][\"Purchase\"])/np.sqrt(f_sample_size))\n",
    "\n",
    "print(\"Confidence interval for female customers: ({}, {})\".format(clt1, clt2))\n",
    "\n",
    "# 99% confidence interval for female customers buying in the range of (8373.068243449497, 9074.474216550503)\n",
    "# The actual population mean for female customers = 8734.565765\n",
    "# our sample confidence interval proves that 99% of female customers are buying in the range of 8431.82 - 9022.76"
   ]
  },
  {
   "cell_type": "code",
   "execution_count": 12,
   "metadata": {},
   "outputs": [
    {
     "name": "stdout",
     "output_type": "stream",
     "text": [
      "Confidence interval for Male customers: (9317.895776347275, 9554.819421652726)\n"
     ]
    }
   ],
   "source": [
    "m_sample_size = 10000\n",
    "male_sample_mean = []\n",
    "for i in range(1000):\n",
    "    male_sample_mean.append(np.random.choice(df[df[\"Gender\"] == \"M\"][\"Purchase\"],m_sample_size).mean())\n",
    "clt1 = np.mean(male_sample_mean) - (norm.ppf(0.99)*np.std(df[df[\"Gender\"] == \"M\"][\"Purchase\"])/np.sqrt(m_sample_size))\n",
    "clt2 = np.mean(male_sample_mean) + (norm.ppf(0.99)*np.std(df[df[\"Gender\"] == \"M\"][\"Purchase\"])/np.sqrt(m_sample_size))\n",
    "\n",
    "print(\"Confidence interval for Male customers: ({}, {})\".format(clt1, clt2))\n",
    "\n",
    "# 99% confidence interval for male customers buying in the range of (9317.895776347275, 9554.819421652726)\n",
    "# The actual population mean for male customers = 9437.526040\n",
    "# our sample confidence interval proves that 99% of male customers are buying in the range of 9317.90 - 9535.82"
   ]
  },
  {
   "attachments": {},
   "cell_type": "markdown",
   "metadata": {},
   "source": [
    "3. 90% Confidence Interval"
   ]
  },
  {
   "cell_type": "code",
   "execution_count": 13,
   "metadata": {},
   "outputs": [
    {
     "name": "stdout",
     "output_type": "stream",
     "text": [
      "Confidence interval for female customers: (8561.08909164469, 8947.483548355312)\n"
     ]
    }
   ],
   "source": [
    "f_sample_size = 1000\n",
    "female_sample_mean = []\n",
    "for i in range(100):\n",
    "    female_sample_mean.append(np.random.choice(df[df[\"Gender\"] == \"F\"][\"Purchase\"],f_sample_size).mean())\n",
    "clt1 = np.mean(female_sample_mean) - (norm.ppf(0.90)*np.std(df[df[\"Gender\"] == \"F\"][\"Purchase\"])/np.sqrt(f_sample_size))\n",
    "clt2 = np.mean(female_sample_mean) + (norm.ppf(0.90)*np.std(df[df[\"Gender\"] == \"F\"][\"Purchase\"])/np.sqrt(f_sample_size))\n",
    "\n",
    "print(\"Confidence interval for female customers: ({}, {})\".format(clt1, clt2))\n",
    "\n",
    "# 90% confidence interval for female customers buying in the range of (8561.08909164469, 8947.483548355312)\n",
    "# The actual population mean for female customers = 8734.565765\n",
    "# our sample confidence interval proves that 90% of female customers are buying in the range of 8561.08 - 8947.48"
   ]
  },
  {
   "cell_type": "code",
   "execution_count": 14,
   "metadata": {},
   "outputs": [
    {
     "name": "stdout",
     "output_type": "stream",
     "text": [
      "Confidence interval for Male customers: (9373.493768674123, 9504.011595325877)\n"
     ]
    }
   ],
   "source": [
    "m_sample_size = 10000\n",
    "male_sample_mean = []\n",
    "for i in range(1000):\n",
    "    male_sample_mean.append(np.random.choice(df[df[\"Gender\"] == \"M\"][\"Purchase\"],m_sample_size).mean())\n",
    "clt1 = np.mean(male_sample_mean) - (norm.ppf(0.90)*np.std(df[df[\"Gender\"] == \"M\"][\"Purchase\"])/np.sqrt(m_sample_size))\n",
    "clt2 = np.mean(male_sample_mean) + (norm.ppf(0.90)*np.std(df[df[\"Gender\"] == \"M\"][\"Purchase\"])/np.sqrt(m_sample_size))\n",
    "\n",
    "print(\"Confidence interval for Male customers: ({}, {})\".format(clt1, clt2))\n",
    "\n",
    "# 90% confidence interval for male customers buying in the range of (9373.493768674123, 9504.011595325877)\n",
    "# The actual population mean for male customers = 9437.526040\n",
    "# our sample confidence interval proves that 90% of male customers are buying in the range of 9373.49 - 9504.01"
   ]
  },
  {
   "cell_type": "code",
   "execution_count": null,
   "metadata": {},
   "outputs": [],
   "source": [
    "# The amount spend by male was higher than female\n",
    "# From clt analysis our sample data says that population of male is buying is higher than female\n",
    "# Male customers from city \"C\" is buying more compared to other cities"
   ]
  },
  {
   "attachments": {},
   "cell_type": "markdown",
   "metadata": {},
   "source": [
    "# Marital_status sample experiment"
   ]
  },
  {
   "attachments": {},
   "cell_type": "markdown",
   "metadata": {},
   "source": [
    "1. 95% Confident Interval"
   ]
  },
  {
   "cell_type": "code",
   "execution_count": 68,
   "metadata": {},
   "outputs": [
    {
     "name": "stdout",
     "output_type": "stream",
     "text": [
      "Married customers purchase amount confidence interval: 8967.40317146172 - 9590.599668538278\n",
      "Unmarried customers purchase amount confidence interval: 8967.16184897741 - 9589.062891022588\n"
     ]
    }
   ],
   "source": [
    "mar_sample_mean = []\n",
    "for i in range(100):\n",
    "    mar_sample_mean.append(np.random.choice(df[df['Marital_Status'] == 0].Purchase, 1000).mean())\n",
    "\n",
    "unmar_sample_mean = []\n",
    "for i in range(100):\n",
    "    unmar_sample_mean.append(np.random.choice(df[df['Marital_Status'] == 1].Purchase, 1000).mean())\n",
    "\n",
    "mar_standard_error = df[df['Marital_Status'] == 0].Purchase.std() / np.sqrt(1000)\n",
    "unmar_standard_error = df[df['Marital_Status'] == 1].Purchase.std() / np.sqrt(1000)\n",
    "\n",
    "mar_clt1 = np.mean(mar_sample_mean) - (1.96 * mar_standard_error)\n",
    "mar_clt2 = np.mean(mar_sample_mean) + (1.96 * mar_standard_error)\n",
    "\n",
    "unmar_clt1 = np.mean(unmar_sample_mean) - (1.96 * unmar_standard_error)\n",
    "unmar_clt2 = np.mean(unmar_sample_mean) + (1.96 * unmar_standard_error)\n",
    "\n",
    "print(\"Married customers purchase amount confidence interval:\", mar_clt1, \"-\", mar_clt2)\n",
    "print(\"Unmarried customers purchase amount confidence interval:\", unmar_clt1, \"-\", unmar_clt2)\n",
    "\n",
    "# 95% confidence interval of our sample mean for married = [8967.40317146172 , 9590.599668538278]\n",
    "# Unmarried customers purchase amount confidence interval: [8967.16184897741, 9589.062891022588]"
   ]
  },
  {
   "cell_type": "code",
   "execution_count": 16,
   "metadata": {},
   "outputs": [
    {
     "data": {
      "text/plain": [
       "Marital_Status\n",
       "0    9265.907619\n",
       "1    9261.174574\n",
       "Name: Purchase, dtype: float64"
      ]
     },
     "execution_count": 16,
     "metadata": {},
     "output_type": "execute_result"
    }
   ],
   "source": [
    "df.groupby([\"Marital_Status\"])[\"Purchase\"].mean()"
   ]
  },
  {
   "attachments": {},
   "cell_type": "markdown",
   "metadata": {},
   "source": [
    "2. 99% Confident Interval"
   ]
  },
  {
   "cell_type": "code",
   "execution_count": 69,
   "metadata": {},
   "outputs": [
    {
     "name": "stdout",
     "output_type": "stream",
     "text": [
      "Married customers purchase amount confidence interval: 8890.088513345981 - 9629.768026654016\n",
      "Unmarried customers purchase amount confidence interval: 8889.550749024085 - 9627.692670975914\n"
     ]
    }
   ],
   "source": [
    "mar_sample_mean = []\n",
    "for i in range(100):\n",
    "    mar_sample_mean.append(np.random.choice(df[df['Marital_Status'] == 0].Purchase, 1000).mean())\n",
    "\n",
    "unmar_sample_mean = []\n",
    "for i in range(100):\n",
    "    unmar_sample_mean.append(np.random.choice(df[df['Marital_Status'] == 1].Purchase, 1000).mean())\n",
    "\n",
    "mar_standard_error = df[df['Marital_Status'] == 0].Purchase.std() / np.sqrt(1000)\n",
    "unmar_standard_error = df[df['Marital_Status'] == 1].Purchase.std() / np.sqrt(1000)\n",
    "\n",
    "mar_clt1 = np.mean(mar_sample_mean) - (norm.ppf(0.99) * mar_standard_error)\n",
    "mar_clt2 = np.mean(mar_sample_mean) + (norm.ppf(0.99) * mar_standard_error)\n",
    "\n",
    "unmar_clt1 = np.mean(unmar_sample_mean) - (norm.ppf(0.99) * unmar_standard_error)\n",
    "unmar_clt2 = np.mean(unmar_sample_mean) + (norm.ppf(0.99) * unmar_standard_error)\n",
    "\n",
    "print(\"Married customers purchase amount confidence interval:\", mar_clt1, \"-\", mar_clt2)\n",
    "print(\"Unmarried customers purchase amount confidence interval:\", unmar_clt1, \"-\", unmar_clt2)\n",
    "\n",
    "# Married customers purchase amount confidence interval ~ [8890.088513345981 , 9629.768026654016]\n",
    "# Unmarried customers purchase amount confidence interval ~ [8889.550749024085 , 9627.692670975914]"
   ]
  },
  {
   "attachments": {},
   "cell_type": "markdown",
   "metadata": {},
   "source": [
    "3. 90% Confident Interval"
   ]
  },
  {
   "cell_type": "code",
   "execution_count": 70,
   "metadata": {},
   "outputs": [
    {
     "name": "stdout",
     "output_type": "stream",
     "text": [
      "Married customers purchase amount confidence interval: 9055.07402039021 - 9462.552819609788\n",
      "Unmarried customers purchase amount confidence interval: 9063.087828865606 - 9469.719591134392\n"
     ]
    }
   ],
   "source": [
    "mar_sample_mean = []\n",
    "for i in range(100):\n",
    "    mar_sample_mean.append(np.random.choice(df[df['Marital_Status'] == 0].Purchase, 1000).mean())\n",
    "\n",
    "unmar_sample_mean = []\n",
    "for i in range(100):\n",
    "    unmar_sample_mean.append(np.random.choice(df[df['Marital_Status'] == 1].Purchase, 1000).mean())\n",
    "\n",
    "mar_standard_error = df[df['Marital_Status'] == 0].Purchase.std() / np.sqrt(1000)\n",
    "unmar_standard_error = df[df['Marital_Status'] == 1].Purchase.std() / np.sqrt(1000)\n",
    "\n",
    "mar_clt1 = np.mean(mar_sample_mean) - (norm.ppf(0.90) * mar_standard_error)\n",
    "mar_clt2 = np.mean(mar_sample_mean) + (norm.ppf(0.90) * mar_standard_error)\n",
    "\n",
    "unmar_clt1 = np.mean(unmar_sample_mean) - (norm.ppf(0.90) * unmar_standard_error)\n",
    "unmar_clt2 = np.mean(unmar_sample_mean) + (norm.ppf(0.90) * unmar_standard_error)\n",
    "\n",
    "print(\"Married customers purchase amount confidence interval:\", mar_clt1, \"-\", mar_clt2)\n",
    "print(\"Unmarried customers purchase amount confidence interval:\", unmar_clt1, \"-\", unmar_clt2)\n",
    "\n",
    "# Married customers purchase amount confidence interval ~ [9055.07402039021 , 9462.552819609788]\n",
    "# Unmarried customers purchase amount confidence interval ~ [9063.087828865606 , 9469.719591134392]"
   ]
  },
  {
   "cell_type": "code",
   "execution_count": null,
   "metadata": {},
   "outputs": [],
   "source": [
    "# For the comparispn of marital status, there is no major difference between single and married\n",
    "# From the clt analysis of above sample data shows that there is no difference\n",
    "# which means that both single and married persons are buying products in the range of [9055.07402039021 , 9469.719591134392]"
   ]
  },
  {
   "cell_type": "code",
   "execution_count": 19,
   "metadata": {},
   "outputs": [
    {
     "data": {
      "text/plain": [
       "26-35    219587\n",
       "36-45    110013\n",
       "18-25     99660\n",
       "46-50     45701\n",
       "51-55     38501\n",
       "55+       21504\n",
       "0-17      15102\n",
       "Name: Age, dtype: int64"
      ]
     },
     "execution_count": 19,
     "metadata": {},
     "output_type": "execute_result"
    }
   ],
   "source": [
    "df[\"Age\"].value_counts()"
   ]
  },
  {
   "cell_type": "code",
   "execution_count": 20,
   "metadata": {},
   "outputs": [
    {
     "data": {
      "text/plain": [
       "Age\n",
       "0-17     8933.464640\n",
       "18-25    9169.663606\n",
       "26-35    9252.690633\n",
       "36-45    9331.350695\n",
       "46-50    9208.625697\n",
       "51-55    9534.808031\n",
       "55+      9336.280459\n",
       "Name: Purchase, dtype: float64"
      ]
     },
     "execution_count": 20,
     "metadata": {},
     "output_type": "execute_result"
    }
   ],
   "source": [
    "df.groupby(\"Age\")[\"Purchase\"].mean()"
   ]
  },
  {
   "cell_type": "code",
   "execution_count": 21,
   "metadata": {},
   "outputs": [
    {
     "data": {
      "text/plain": [
       "array(['0-17', '55+', '26-35', '46-50', '51-55', '36-45', '18-25'],\n",
       "      dtype=object)"
      ]
     },
     "execution_count": 21,
     "metadata": {},
     "output_type": "execute_result"
    }
   ],
   "source": [
    "df[\"Age\"].unique()"
   ]
  },
  {
   "attachments": {},
   "cell_type": "markdown",
   "metadata": {},
   "source": [
    "# Age"
   ]
  },
  {
   "attachments": {},
   "cell_type": "markdown",
   "metadata": {},
   "source": [
    "1. 95% Confident Interval"
   ]
  },
  {
   "cell_type": "code",
   "execution_count": 22,
   "metadata": {},
   "outputs": [
    {
     "name": "stdout",
     "output_type": "stream",
     "text": [
      "Age under_18 purchase amount confidence interval: [8641.047247905422, 9274.606532094578]\n",
      "Age above18_25 purchase amount confidence interval: [8878.963895358083, 9503.021784641915]\n",
      "Age above26_35 purchase amount confidence interval: [8968.578917440082, 9589.688902559916]\n",
      "Age above36_45 purchase amount confidence interval: [9020.935527495376, 9643.58079250463]\n",
      "Age above46_50 purchase amount confidence interval: [8927.831548258893, 9543.567331741111]\n",
      "Age above51_55 purchase amount confidence interval: [9215.535254590892, 9846.163745409109]\n",
      "Age above_55 purchase amount confidence interval: [9020.704126434513, 9641.920913565486]\n"
     ]
    }
   ],
   "source": [
    "under_18 = []\n",
    "above18_25 = []\n",
    "above26_35 = []\n",
    "above36_45 = []\n",
    "above46_50 = []\n",
    "above51_55 = []\n",
    "above_55 = []\n",
    "sample_size = 1000\n",
    "for i in range(100):\n",
    "    under_18.append(np.random.choice(df[df[\"Age\"] == \"0-17\"][\"Purchase\"],sample_size).mean())\n",
    "    above18_25.append(np.random.choice(df[df[\"Age\"] == \"18-25\"][\"Purchase\"],sample_size).mean())\n",
    "    above26_35.append(np.random.choice(df[df[\"Age\"] == \"26-35\"][\"Purchase\"],sample_size).mean())\n",
    "    above36_45.append(np.random.choice(df[df[\"Age\"] == \"36-45\"][\"Purchase\"],sample_size).mean())\n",
    "    above46_50.append(np.random.choice(df[df[\"Age\"] == \"46-50\"][\"Purchase\"],sample_size).mean())\n",
    "    above51_55.append(np.random.choice(df[df[\"Age\"] == \"51-55\"][\"Purchase\"],sample_size).mean())\n",
    "    above_55.append(np.random.choice(df[df[\"Age\"] == \"55+\"][\"Purchase\"],sample_size).mean())\n",
    "\n",
    "\n",
    "clt_under_18 = [np.mean(under_18) - (1.96*np.std(df[df[\"Age\"] == \"0-17\"][\"Purchase\"])/np.sqrt(sample_size)),\n",
    "                np.mean(under_18) + (1.96*np.std(df[df[\"Age\"] == \"0-17\"][\"Purchase\"])/np.sqrt(sample_size))]\n",
    "clt_above18_25 = [np.mean(above18_25) - (1.96*np.std(df[df[\"Age\"] == \"18-25\"][\"Purchase\"])/np.sqrt(sample_size)),\n",
    "                  np.mean(above18_25) + (1.96*np.std(df[df[\"Age\"] == \"18-25\"][\"Purchase\"])/np.sqrt(sample_size))]\n",
    "clt_above26_35 = [np.mean(above26_35) - (1.96*np.std(df[df[\"Age\"] == \"26-35\"][\"Purchase\"])/np.sqrt(sample_size)),\n",
    "                  np.mean(above26_35) + (1.96*np.std(df[df[\"Age\"] == \"26-35\"][\"Purchase\"])/np.sqrt(sample_size))]\n",
    "clt_above36_45 = [np.mean(above36_45) - (1.96*np.std(df[df[\"Age\"] == \"36-45\"][\"Purchase\"])/np.sqrt(sample_size)),\n",
    "                  np.mean(above36_45) + (1.96*np.std(df[df[\"Age\"] == \"36-45\"][\"Purchase\"])/np.sqrt(sample_size))]\n",
    "clt_above46_50 = [np.mean(above46_50) - (1.96*np.std(df[df[\"Age\"] == \"46-50\"][\"Purchase\"])/np.sqrt(sample_size)),\n",
    "                   np.mean(above46_50) + (1.96*np.std(df[df[\"Age\"] == \"46-50\"][\"Purchase\"])/np.sqrt(sample_size))]\n",
    "clt_above51_55 = [np.mean(above51_55) - (1.96*np.std(df[df[\"Age\"] == \"51-55\"][\"Purchase\"])/np.sqrt(sample_size)),\n",
    "                  np.mean(above51_55) + (1.96*np.std(df[df[\"Age\"] == \"51-55\"][\"Purchase\"])/np.sqrt(sample_size))]\n",
    "clt_above_55 = [np.mean(above_55) - (1.96*np.std(df[df[\"Age\"] == \"55+\"][\"Purchase\"])/np.sqrt(sample_size)),\n",
    "                np.mean(above_55) + (1.96*np.std(df[df[\"Age\"] == \"55+\"][\"Purchase\"])/np.sqrt(sample_size))]\n",
    "\n",
    "print(\"Age under_18 purchase amount confidence interval:\", clt_under_18)\n",
    "print(\"Age above18_25 purchase amount confidence interval:\", clt_above18_25)\n",
    "print(\"Age above26_35 purchase amount confidence interval:\", clt_above26_35)\n",
    "print(\"Age above36_45 purchase amount confidence interval:\", clt_above36_45)\n",
    "print(\"Age above46_50 purchase amount confidence interval:\", clt_above46_50)\n",
    "print(\"Age above51_55 purchase amount confidence interval:\", clt_above51_55)\n",
    "print(\"Age above_55 purchase amount confidence interval:\", clt_above_55)"
   ]
  },
  {
   "attachments": {},
   "cell_type": "markdown",
   "metadata": {},
   "source": [
    "2. 99% Confident Interval"
   ]
  },
  {
   "cell_type": "code",
   "execution_count": 23,
   "metadata": {},
   "outputs": [
    {
     "name": "stdout",
     "output_type": "stream",
     "text": [
      "Age under_18 purchase amount confidence interval: [8550.827614221356, 9302.806845778645]\n",
      "Age above18_25 purchase amount confidence interval: [8813.705334894425, 9554.407245105576]\n",
      "Age above26_35 purchase amount confidence interval: [8899.560486574217, 9636.76349342578]\n",
      "Age above36_45 purchase amount confidence interval: [8969.3010053735, 9708.326254626498]\n",
      "Age above46_50 purchase amount confidence interval: [8847.166219266652, 9577.99052073335]\n",
      "Age above51_55 purchase amount confidence interval: [9173.352571396803, 9921.853208603201]\n",
      "Age above_55 purchase amount confidence interval: [8956.875374270254, 9694.20514572975]\n"
     ]
    }
   ],
   "source": [
    "under_18 = []\n",
    "above18_25 = []\n",
    "above26_35 = []\n",
    "above36_45 = []\n",
    "above46_50 = []\n",
    "above51_55 = []\n",
    "above_55 = []\n",
    "sample_size = 1000\n",
    "for i in range(100):\n",
    "    under_18.append(np.random.choice(df[df[\"Age\"] == \"0-17\"][\"Purchase\"],sample_size).mean())\n",
    "    above18_25.append(np.random.choice(df[df[\"Age\"] == \"18-25\"][\"Purchase\"],sample_size).mean())\n",
    "    above26_35.append(np.random.choice(df[df[\"Age\"] == \"26-35\"][\"Purchase\"],sample_size).mean())\n",
    "    above36_45.append(np.random.choice(df[df[\"Age\"] == \"36-45\"][\"Purchase\"],sample_size).mean())\n",
    "    above46_50.append(np.random.choice(df[df[\"Age\"] == \"46-50\"][\"Purchase\"],sample_size).mean())\n",
    "    above51_55.append(np.random.choice(df[df[\"Age\"] == \"51-55\"][\"Purchase\"],sample_size).mean())\n",
    "    above_55.append(np.random.choice(df[df[\"Age\"] == \"55+\"][\"Purchase\"],sample_size).mean())\n",
    "\n",
    "\n",
    "clt_under_18 = [np.mean(under_18) - (norm.ppf(0.99)*np.std(df[df[\"Age\"] == \"0-17\"][\"Purchase\"])/np.sqrt(sample_size)),\n",
    "                np.mean(under_18) + (norm.ppf(0.99)*np.std(df[df[\"Age\"] == \"0-17\"][\"Purchase\"])/np.sqrt(sample_size))]\n",
    "clt_above18_25 = [np.mean(above18_25) - (norm.ppf(0.99)*np.std(df[df[\"Age\"] == \"18-25\"][\"Purchase\"])/np.sqrt(sample_size)),\n",
    "                  np.mean(above18_25) + (norm.ppf(0.99)*np.std(df[df[\"Age\"] == \"18-25\"][\"Purchase\"])/np.sqrt(sample_size))]\n",
    "clt_above26_35 = [np.mean(above26_35) - (norm.ppf(0.99)*np.std(df[df[\"Age\"] == \"26-35\"][\"Purchase\"])/np.sqrt(sample_size)),\n",
    "                  np.mean(above26_35) + (norm.ppf(0.99)*np.std(df[df[\"Age\"] == \"26-35\"][\"Purchase\"])/np.sqrt(sample_size))]\n",
    "clt_above36_45 = [np.mean(above36_45) - (norm.ppf(0.99)*np.std(df[df[\"Age\"] == \"36-45\"][\"Purchase\"])/np.sqrt(sample_size)),\n",
    "                  np.mean(above36_45) + (norm.ppf(0.99)*np.std(df[df[\"Age\"] == \"36-45\"][\"Purchase\"])/np.sqrt(sample_size))]\n",
    "clt_above46_50 = [np.mean(above46_50) - (norm.ppf(0.99)*np.std(df[df[\"Age\"] == \"46-50\"][\"Purchase\"])/np.sqrt(sample_size)),\n",
    "                   np.mean(above46_50) + (norm.ppf(0.99)*np.std(df[df[\"Age\"] == \"46-50\"][\"Purchase\"])/np.sqrt(sample_size))]\n",
    "clt_above51_55 = [np.mean(above51_55) - (norm.ppf(0.99)*np.std(df[df[\"Age\"] == \"51-55\"][\"Purchase\"])/np.sqrt(sample_size)),\n",
    "                  np.mean(above51_55) + (norm.ppf(0.99)*np.std(df[df[\"Age\"] == \"51-55\"][\"Purchase\"])/np.sqrt(sample_size))]\n",
    "clt_above_55 = [np.mean(above_55) - (norm.ppf(0.99)*np.std(df[df[\"Age\"] == \"55+\"][\"Purchase\"])/np.sqrt(sample_size)),\n",
    "                np.mean(above_55) + (norm.ppf(0.99)*np.std(df[df[\"Age\"] == \"55+\"][\"Purchase\"])/np.sqrt(sample_size))]\n",
    "\n",
    "print(\"Age under_18 purchase amount confidence interval:\", clt_under_18)\n",
    "print(\"Age above18_25 purchase amount confidence interval:\", clt_above18_25)\n",
    "print(\"Age above26_35 purchase amount confidence interval:\", clt_above26_35)\n",
    "print(\"Age above36_45 purchase amount confidence interval:\", clt_above36_45)\n",
    "print(\"Age above46_50 purchase amount confidence interval:\", clt_above46_50)\n",
    "print(\"Age above51_55 purchase amount confidence interval:\", clt_above51_55)\n",
    "print(\"Age above_55 purchase amount confidence interval:\", clt_above_55)"
   ]
  },
  {
   "cell_type": "code",
   "execution_count": 24,
   "metadata": {},
   "outputs": [
    {
     "data": {
      "text/plain": [
       "Age\n",
       "0-17     8933.464640\n",
       "18-25    9169.663606\n",
       "26-35    9252.690633\n",
       "36-45    9331.350695\n",
       "46-50    9208.625697\n",
       "51-55    9534.808031\n",
       "55+      9336.280459\n",
       "Name: Purchase, dtype: float64"
      ]
     },
     "execution_count": 24,
     "metadata": {},
     "output_type": "execute_result"
    }
   ],
   "source": [
    "df.groupby(\"Age\")[\"Purchase\"].mean()"
   ]
  },
  {
   "attachments": {},
   "cell_type": "markdown",
   "metadata": {},
   "source": [
    "3. 90% Confidence Interval"
   ]
  },
  {
   "cell_type": "code",
   "execution_count": 25,
   "metadata": {},
   "outputs": [
    {
     "name": "stdout",
     "output_type": "stream",
     "text": [
      "Age under_18 purchase amount confidence interval: [8715.701191500526, 9129.955728499472]\n",
      "Age above18_25 purchase amount confidence interval: [8943.047468519859, 9351.089491480141]\n",
      "Age above26_35 purchase amount confidence interval: [9078.691276274054, 9484.805803725947]\n",
      "Age above36_45 purchase amount confidence interval: [9115.987152716441, 9523.105527283557]\n",
      "Age above46_50 purchase amount confidence interval: [9003.712554774627, 9406.313145225375]\n",
      "Age above51_55 purchase amount confidence interval: [9323.390895284409, 9735.72912471559]\n",
      "Age above_55 purchase amount confidence interval: [9106.897689874928, 9513.082050125071]\n"
     ]
    }
   ],
   "source": [
    "under_18 = []\n",
    "above18_25 = []\n",
    "above26_35 = []\n",
    "above36_45 = []\n",
    "above46_50 = []\n",
    "above51_55 = []\n",
    "above_55 = []\n",
    "sample_size = 1000\n",
    "for i in range(100):\n",
    "    under_18.append(np.random.choice(df[df[\"Age\"] == \"0-17\"][\"Purchase\"],sample_size).mean())\n",
    "    above18_25.append(np.random.choice(df[df[\"Age\"] == \"18-25\"][\"Purchase\"],sample_size).mean())\n",
    "    above26_35.append(np.random.choice(df[df[\"Age\"] == \"26-35\"][\"Purchase\"],sample_size).mean())\n",
    "    above36_45.append(np.random.choice(df[df[\"Age\"] == \"36-45\"][\"Purchase\"],sample_size).mean())\n",
    "    above46_50.append(np.random.choice(df[df[\"Age\"] == \"46-50\"][\"Purchase\"],sample_size).mean())\n",
    "    above51_55.append(np.random.choice(df[df[\"Age\"] == \"51-55\"][\"Purchase\"],sample_size).mean())\n",
    "    above_55.append(np.random.choice(df[df[\"Age\"] == \"55+\"][\"Purchase\"],sample_size).mean())\n",
    "\n",
    "\n",
    "clt_under_18 = [np.mean(under_18) - (norm.ppf(0.90)*np.std(df[df[\"Age\"] == \"0-17\"][\"Purchase\"])/np.sqrt(sample_size)),\n",
    "                np.mean(under_18) + (norm.ppf(0.90)*np.std(df[df[\"Age\"] == \"0-17\"][\"Purchase\"])/np.sqrt(sample_size))]\n",
    "clt_above18_25 = [np.mean(above18_25) - (norm.ppf(0.90)*np.std(df[df[\"Age\"] == \"18-25\"][\"Purchase\"])/np.sqrt(sample_size)),\n",
    "                  np.mean(above18_25) + (norm.ppf(0.90)*np.std(df[df[\"Age\"] == \"18-25\"][\"Purchase\"])/np.sqrt(sample_size))]\n",
    "clt_above26_35 = [np.mean(above26_35) - (norm.ppf(0.90)*np.std(df[df[\"Age\"] == \"26-35\"][\"Purchase\"])/np.sqrt(sample_size)),\n",
    "                  np.mean(above26_35) + (norm.ppf(0.90)*np.std(df[df[\"Age\"] == \"26-35\"][\"Purchase\"])/np.sqrt(sample_size))]\n",
    "clt_above36_45 = [np.mean(above36_45) - (norm.ppf(0.90)*np.std(df[df[\"Age\"] == \"36-45\"][\"Purchase\"])/np.sqrt(sample_size)),\n",
    "                  np.mean(above36_45) + (norm.ppf(0.90)*np.std(df[df[\"Age\"] == \"36-45\"][\"Purchase\"])/np.sqrt(sample_size))]\n",
    "clt_above46_50 = [np.mean(above46_50) - (norm.ppf(0.90)*np.std(df[df[\"Age\"] == \"46-50\"][\"Purchase\"])/np.sqrt(sample_size)),\n",
    "                   np.mean(above46_50) + (norm.ppf(0.90)*np.std(df[df[\"Age\"] == \"46-50\"][\"Purchase\"])/np.sqrt(sample_size))]\n",
    "clt_above51_55 = [np.mean(above51_55) - (norm.ppf(0.90)*np.std(df[df[\"Age\"] == \"51-55\"][\"Purchase\"])/np.sqrt(sample_size)),\n",
    "                  np.mean(above51_55) + (norm.ppf(0.90)*np.std(df[df[\"Age\"] == \"51-55\"][\"Purchase\"])/np.sqrt(sample_size))]\n",
    "clt_above_55 = [np.mean(above_55) - (norm.ppf(0.90)*np.std(df[df[\"Age\"] == \"55+\"][\"Purchase\"])/np.sqrt(sample_size)),\n",
    "                np.mean(above_55) + (norm.ppf(0.90)*np.std(df[df[\"Age\"] == \"55+\"][\"Purchase\"])/np.sqrt(sample_size))]\n",
    "\n",
    "print(\"Age under_18 purchase amount confidence interval:\", clt_under_18)\n",
    "print(\"Age above18_25 purchase amount confidence interval:\", clt_above18_25)\n",
    "print(\"Age above26_35 purchase amount confidence interval:\", clt_above26_35)\n",
    "print(\"Age above36_45 purchase amount confidence interval:\", clt_above36_45)\n",
    "print(\"Age above46_50 purchase amount confidence interval:\", clt_above46_50)\n",
    "print(\"Age above51_55 purchase amount confidence interval:\", clt_above51_55)\n",
    "print(\"Age above_55 purchase amount confidence interval:\", clt_above_55)"
   ]
  },
  {
   "cell_type": "code",
   "execution_count": null,
   "metadata": {},
   "outputs": [],
   "source": [
    "# from the above confidence interval analysis our sample tells that if age is increases from 18 to around 50 their purchace power also increases\n",
    "# After 55+ age their purchase power is also decreases gently not sudden drop, but the trend drops a little bit"
   ]
  },
  {
   "attachments": {},
   "cell_type": "markdown",
   "metadata": {},
   "source": [
    "Visual Analysis"
   ]
  },
  {
   "cell_type": "code",
   "execution_count": 26,
   "metadata": {},
   "outputs": [
    {
     "data": {
      "text/html": [
       "<div>\n",
       "<style scoped>\n",
       "    .dataframe tbody tr th:only-of-type {\n",
       "        vertical-align: middle;\n",
       "    }\n",
       "\n",
       "    .dataframe tbody tr th {\n",
       "        vertical-align: top;\n",
       "    }\n",
       "\n",
       "    .dataframe thead th {\n",
       "        text-align: right;\n",
       "    }\n",
       "</style>\n",
       "<table border=\"1\" class=\"dataframe\">\n",
       "  <thead>\n",
       "    <tr style=\"text-align: right;\">\n",
       "      <th></th>\n",
       "      <th>User_ID</th>\n",
       "      <th>Product_ID</th>\n",
       "      <th>Gender</th>\n",
       "      <th>Age</th>\n",
       "      <th>Occupation</th>\n",
       "      <th>City_Category</th>\n",
       "      <th>Stay_In_Current_City_Years</th>\n",
       "      <th>Marital_Status</th>\n",
       "      <th>Product_Category</th>\n",
       "      <th>Purchase</th>\n",
       "    </tr>\n",
       "  </thead>\n",
       "  <tbody>\n",
       "    <tr>\n",
       "      <th>0</th>\n",
       "      <td>1000001</td>\n",
       "      <td>P00069042</td>\n",
       "      <td>F</td>\n",
       "      <td>0-17</td>\n",
       "      <td>10</td>\n",
       "      <td>A</td>\n",
       "      <td>2</td>\n",
       "      <td>0</td>\n",
       "      <td>3</td>\n",
       "      <td>8370</td>\n",
       "    </tr>\n",
       "    <tr>\n",
       "      <th>1</th>\n",
       "      <td>1000001</td>\n",
       "      <td>P00248942</td>\n",
       "      <td>F</td>\n",
       "      <td>0-17</td>\n",
       "      <td>10</td>\n",
       "      <td>A</td>\n",
       "      <td>2</td>\n",
       "      <td>0</td>\n",
       "      <td>1</td>\n",
       "      <td>15200</td>\n",
       "    </tr>\n",
       "    <tr>\n",
       "      <th>2</th>\n",
       "      <td>1000001</td>\n",
       "      <td>P00087842</td>\n",
       "      <td>F</td>\n",
       "      <td>0-17</td>\n",
       "      <td>10</td>\n",
       "      <td>A</td>\n",
       "      <td>2</td>\n",
       "      <td>0</td>\n",
       "      <td>12</td>\n",
       "      <td>1422</td>\n",
       "    </tr>\n",
       "  </tbody>\n",
       "</table>\n",
       "</div>"
      ],
      "text/plain": [
       "   User_ID Product_ID Gender   Age  Occupation City_Category  \\\n",
       "0  1000001  P00069042      F  0-17          10             A   \n",
       "1  1000001  P00248942      F  0-17          10             A   \n",
       "2  1000001  P00087842      F  0-17          10             A   \n",
       "\n",
       "  Stay_In_Current_City_Years  Marital_Status  Product_Category  Purchase  \n",
       "0                          2               0                 3      8370  \n",
       "1                          2               0                 1     15200  \n",
       "2                          2               0                12      1422  "
      ]
     },
     "execution_count": 26,
     "metadata": {},
     "output_type": "execute_result"
    }
   ],
   "source": [
    "df.head(3)"
   ]
  },
  {
   "cell_type": "code",
   "execution_count": 30,
   "metadata": {},
   "outputs": [
    {
     "data": {
      "text/plain": [
       "<AxesSubplot:xlabel='Gender', ylabel='Purchase'>"
      ]
     },
     "execution_count": 30,
     "metadata": {},
     "output_type": "execute_result"
    },
    {
     "data": {
      "image/png": "[encoded data removed]",
      "text/plain": [
       "<Figure size 640x480 with 1 Axes>"
      ]
     },
     "metadata": {},
     "output_type": "display_data"
    }
   ],
   "source": [
    "sns.boxplot(data=df,x=\"Gender\",y=\"Purchase\",hue=\"Marital_Status\")"
   ]
  },
  {
   "cell_type": "code",
   "execution_count": 46,
   "metadata": {},
   "outputs": [
    {
     "data": {
      "text/plain": [
       "<AxesSubplot:xlabel='Age', ylabel='Purchase'>"
      ]
     },
     "execution_count": 46,
     "metadata": {},
     "output_type": "execute_result"
    },
    {
     "data": {
      "image/png": "[encoded data removed]",
      "text/plain": [
       "<Figure size 640x480 with 1 Axes>"
      ]
     },
     "metadata": {},
     "output_type": "display_data"
    }
   ],
   "source": [
    "sns.boxplot(data=df,x=\"Age\",y=\"Purchase\",hue=\"Marital_Status\")"
   ]
  },
  {
   "cell_type": "code",
   "execution_count": 88,
   "metadata": {},
   "outputs": [
    {
     "data": {
      "text/plain": [
       "<matplotlib.legend.Legend at 0x1a83b314cd0>"
      ]
     },
     "execution_count": 88,
     "metadata": {},
     "output_type": "execute_result"
    },
    {
     "data": {
      "image/png": "[encoded data removed]",
      "text/plain": [
       "<Figure size 640x480 with 1 Axes>"
      ]
     },
     "metadata": {},
     "output_type": "display_data"
    }
   ],
   "source": [
    "sns.boxplot(data=df,x=\"Gender\",y=\"Purchase\",hue=\"Stay_In_Current_City_Years\")\n",
    "plt.legend(loc=\"lower center\")"
   ]
  },
  {
   "cell_type": "code",
   "execution_count": 89,
   "metadata": {},
   "outputs": [
    {
     "data": {
      "text/plain": [
       "<matplotlib.legend.Legend at 0x1a837f51580>"
      ]
     },
     "execution_count": 89,
     "metadata": {},
     "output_type": "execute_result"
    },
    {
     "data": {
      "image/png": "[encoded data removed]",
      "text/plain": [
       "<Figure size 640x480 with 1 Axes>"
      ]
     },
     "metadata": {},
     "output_type": "display_data"
    }
   ],
   "source": [
    "sns.boxplot(data=df,x=\"Gender\",y=\"Purchase\",hue=\"City_Category\")\n",
    "plt.legend(loc=\"lower center\")"
   ]
  },
  {
   "cell_type": "code",
   "execution_count": 95,
   "metadata": {},
   "outputs": [
    {
     "data": {
      "text/plain": [
       "<matplotlib.legend.Legend at 0x1a83b1e5340>"
      ]
     },
     "execution_count": 95,
     "metadata": {},
     "output_type": "execute_result"
    },
    {
     "data": {
      "image/png": "[encoded data removed]",
      "text/plain": [
       "<Figure size 640x480 with 1 Axes>"
      ]
     },
     "metadata": {},
     "output_type": "display_data"
    }
   ],
   "source": [
    "sns.boxplot(data=df,x=\"City_Category\",y=\"Purchase\",hue=\"Stay_In_Current_City_Years\")\n",
    "plt.legend(loc=\"lower center\")"
   ]
  },
  {
   "cell_type": "code",
   "execution_count": 61,
   "metadata": {},
   "outputs": [
    {
     "data": {
      "text/html": [
       "<div>\n",
       "<style scoped>\n",
       "    .dataframe tbody tr th:only-of-type {\n",
       "        vertical-align: middle;\n",
       "    }\n",
       "\n",
       "    .dataframe tbody tr th {\n",
       "        vertical-align: top;\n",
       "    }\n",
       "\n",
       "    .dataframe thead th {\n",
       "        text-align: right;\n",
       "    }\n",
       "</style>\n",
       "<table border=\"1\" class=\"dataframe\">\n",
       "  <thead>\n",
       "    <tr style=\"text-align: right;\">\n",
       "      <th>Marital_Status</th>\n",
       "      <th>0</th>\n",
       "      <th>1</th>\n",
       "      <th>All</th>\n",
       "    </tr>\n",
       "    <tr>\n",
       "      <th>Gender</th>\n",
       "      <th></th>\n",
       "      <th></th>\n",
       "      <th></th>\n",
       "    </tr>\n",
       "  </thead>\n",
       "  <tbody>\n",
       "    <tr>\n",
       "      <th>F</th>\n",
       "      <td>14.329319</td>\n",
       "      <td>10.360174</td>\n",
       "      <td>24.689493</td>\n",
       "    </tr>\n",
       "    <tr>\n",
       "      <th>M</th>\n",
       "      <td>44.705382</td>\n",
       "      <td>30.605125</td>\n",
       "      <td>75.310507</td>\n",
       "    </tr>\n",
       "    <tr>\n",
       "      <th>All</th>\n",
       "      <td>59.034701</td>\n",
       "      <td>40.965299</td>\n",
       "      <td>100.000000</td>\n",
       "    </tr>\n",
       "  </tbody>\n",
       "</table>\n",
       "</div>"
      ],
      "text/plain": [
       "Marital_Status          0          1         All\n",
       "Gender                                          \n",
       "F               14.329319  10.360174   24.689493\n",
       "M               44.705382  30.605125   75.310507\n",
       "All             59.034701  40.965299  100.000000"
      ]
     },
     "execution_count": 61,
     "metadata": {},
     "output_type": "execute_result"
    }
   ],
   "source": [
    "pd.crosstab(index=df[\"Gender\"],columns=df[\"Marital_Status\"],margins=True,normalize=True)*100"
   ]
  },
  {
   "cell_type": "code",
   "execution_count": 62,
   "metadata": {},
   "outputs": [
    {
     "data": {
      "text/html": [
       "<div>\n",
       "<style scoped>\n",
       "    .dataframe tbody tr th:only-of-type {\n",
       "        vertical-align: middle;\n",
       "    }\n",
       "\n",
       "    .dataframe tbody tr th {\n",
       "        vertical-align: top;\n",
       "    }\n",
       "\n",
       "    .dataframe thead th {\n",
       "        text-align: right;\n",
       "    }\n",
       "</style>\n",
       "<table border=\"1\" class=\"dataframe\">\n",
       "  <thead>\n",
       "    <tr style=\"text-align: right;\">\n",
       "      <th>Marital_Status</th>\n",
       "      <th>0</th>\n",
       "      <th>1</th>\n",
       "      <th>All</th>\n",
       "    </tr>\n",
       "    <tr>\n",
       "      <th>Gender</th>\n",
       "      <th></th>\n",
       "      <th></th>\n",
       "      <th></th>\n",
       "    </tr>\n",
       "  </thead>\n",
       "  <tbody>\n",
       "    <tr>\n",
       "      <th>F</th>\n",
       "      <td>24.272706</td>\n",
       "      <td>25.290121</td>\n",
       "      <td>24.689493</td>\n",
       "    </tr>\n",
       "    <tr>\n",
       "      <th>M</th>\n",
       "      <td>75.727294</td>\n",
       "      <td>74.709879</td>\n",
       "      <td>75.310507</td>\n",
       "    </tr>\n",
       "  </tbody>\n",
       "</table>\n",
       "</div>"
      ],
      "text/plain": [
       "Marital_Status          0          1        All\n",
       "Gender                                         \n",
       "F               24.272706  25.290121  24.689493\n",
       "M               75.727294  74.709879  75.310507"
      ]
     },
     "execution_count": 62,
     "metadata": {},
     "output_type": "execute_result"
    }
   ],
   "source": [
    "pd.crosstab(index=df[\"Gender\"],columns=df[\"Marital_Status\"],margins=True,normalize=\"columns\")*100"
   ]
  },
  {
   "cell_type": "code",
   "execution_count": 59,
   "metadata": {},
   "outputs": [
    {
     "data": {
      "text/plain": [
       "0.24272705716423748"
      ]
     },
     "execution_count": 59,
     "metadata": {},
     "output_type": "execute_result"
    }
   ],
   "source": [
    "# Probability of buying products by female given she is married == 24%\n",
    "# Probability of buying products by female given she is single == 25%\n",
    "# Probability of buying products by male given he is married == 75%\n",
    "# Probability of buying products by male given he is single == 74%"
   ]
  },
  {
   "cell_type": "code",
   "execution_count": 64,
   "metadata": {},
   "outputs": [
    {
     "data": {
      "text/html": [
       "<div>\n",
       "<style scoped>\n",
       "    .dataframe tbody tr th:only-of-type {\n",
       "        vertical-align: middle;\n",
       "    }\n",
       "\n",
       "    .dataframe tbody tr th {\n",
       "        vertical-align: top;\n",
       "    }\n",
       "\n",
       "    .dataframe thead th {\n",
       "        text-align: right;\n",
       "    }\n",
       "</style>\n",
       "<table border=\"1\" class=\"dataframe\">\n",
       "  <thead>\n",
       "    <tr style=\"text-align: right;\">\n",
       "      <th>Marital_Status</th>\n",
       "      <th>0</th>\n",
       "      <th>1</th>\n",
       "    </tr>\n",
       "    <tr>\n",
       "      <th>Gender</th>\n",
       "      <th></th>\n",
       "      <th></th>\n",
       "    </tr>\n",
       "  </thead>\n",
       "  <tbody>\n",
       "    <tr>\n",
       "      <th>F</th>\n",
       "      <td>58.038127</td>\n",
       "      <td>41.961873</td>\n",
       "    </tr>\n",
       "    <tr>\n",
       "      <th>M</th>\n",
       "      <td>59.361414</td>\n",
       "      <td>40.638586</td>\n",
       "    </tr>\n",
       "    <tr>\n",
       "      <th>All</th>\n",
       "      <td>59.034701</td>\n",
       "      <td>40.965299</td>\n",
       "    </tr>\n",
       "  </tbody>\n",
       "</table>\n",
       "</div>"
      ],
      "text/plain": [
       "Marital_Status          0          1\n",
       "Gender                              \n",
       "F               58.038127  41.961873\n",
       "M               59.361414  40.638586\n",
       "All             59.034701  40.965299"
      ]
     },
     "execution_count": 64,
     "metadata": {},
     "output_type": "execute_result"
    }
   ],
   "source": [
    "pd.crosstab(index=df[\"Gender\"],columns=df[\"Marital_Status\"],margins=True,normalize=\"index\")*100"
   ]
  },
  {
   "cell_type": "code",
   "execution_count": null,
   "metadata": {},
   "outputs": [],
   "source": [
    "# Probability of buying products by married given she is female == 58%\n",
    "# Probability of buying products by single given she is female == 41%\n",
    "# Probability of buying products by married given he is male == 59%\n",
    "# Probability of buying products by single given he is male == 40%\n"
   ]
  },
  {
   "attachments": {},
   "cell_type": "markdown",
   "metadata": {},
   "source": [
    "# Business recommendation"
   ]
  },
  {
   "cell_type": "code",
   "execution_count": null,
   "metadata": {},
   "outputs": [],
   "source": [
    "# Male customers are buying more, but we can't say that they are purchasing more in black friday, because there is no datetime column.\n",
    "# So we can improve recommendation to male customers and married people in the age of 35 to 40. They are the one with high purchase power.\n",
    "# If we recommend based on the demand of city that would help walmart to grow in business, from data we can see the city c is having high purchase.\n",
    " "
   ]
  }
 ],
 "metadata": {
  "kernelspec": {
   "display_name": "base",
   "language": "python",
   "name": "python3"
  },
  "language_info": {
   "codemirror_mode": {
    "name": "ipython",
    "version": 3
   },
   "file_extension": ".py",
   "mimetype": "text/x-python",
   "name": "python",
   "nbconvert_exporter": "python",
   "pygments_lexer": "ipython3",
   "version": "3.9.13"
  },
  "orig_nbformat": 4
 },
 "nbformat": 4,
 "nbformat_minor": 2
}
