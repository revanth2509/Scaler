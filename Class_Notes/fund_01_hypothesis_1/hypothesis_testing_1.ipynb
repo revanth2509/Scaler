{
 "cells": [
  {
   "cell_type": "code",
   "execution_count": 1,
   "id": "33cd9d89",
   "metadata": {},
   "outputs": [],
   "source": [
    "import numpy as np\n",
    "from scipy.stats import binom\n",
    "import matplotlib.pyplot as plt"
   ]
  },
  {
   "cell_type": "markdown",
   "id": "6b9b9900",
   "metadata": {},
   "source": [
    "Setup: <br>\n",
    "H0: Coin is fair<br>\n",
    "T is number of heads - test statistic"
   ]
  },
  {
   "cell_type": "code",
   "execution_count": 2,
   "id": "8eafeabb",
   "metadata": {},
   "outputs": [],
   "source": [
    "n = 10\n",
    "p = 0.5\n",
    "x_values = np.arange(0, n+1)"
   ]
  },
  {
   "cell_type": "code",
   "execution_count": 3,
   "id": "45dc6244",
   "metadata": {},
   "outputs": [
    {
     "data": {
      "text/plain": [
       "array([ 0,  1,  2,  3,  4,  5,  6,  7,  8,  9, 10])"
      ]
     },
     "execution_count": 3,
     "metadata": {},
     "output_type": "execute_result"
    }
   ],
   "source": [
    "x_values"
   ]
  },
  {
   "cell_type": "code",
   "execution_count": 4,
   "id": "7d0b38e5",
   "metadata": {},
   "outputs": [],
   "source": [
    "y_values = binom.pmf(n=10, p=0.5, k=x_values)"
   ]
  },
  {
   "cell_type": "code",
   "execution_count": 5,
   "id": "3b596e54",
   "metadata": {},
   "outputs": [
    {
     "data": {
      "text/plain": [
       "array([0.00097656, 0.00976563, 0.04394531, 0.1171875 , 0.20507812,\n",
       "       0.24609375, 0.20507812, 0.1171875 , 0.04394531, 0.00976563,\n",
       "       0.00097656])"
      ]
     },
     "execution_count": 5,
     "metadata": {},
     "output_type": "execute_result"
    }
   ],
   "source": [
    "y_values"
   ]
  },
  {
   "cell_type": "code",
   "execution_count": 6,
   "id": "6879a08e",
   "metadata": {},
   "outputs": [
    {
     "data": {
      "text/plain": [
       "<BarContainer object of 11 artists>"
      ]
     },
     "execution_count": 6,
     "metadata": {},
     "output_type": "execute_result"
    },
    {
     "data": {
      "image/png": "[encoded data removed]",
      "text/plain": [
       "<Figure size 432x288 with 1 Axes>"
      ]
     },
     "metadata": {
      "needs_background": "light"
     },
     "output_type": "display_data"
    }
   ],
   "source": [
    "plt.bar(x_values, y_values)"
   ]
  },
  {
   "cell_type": "code",
   "execution_count": 7,
   "id": "6023e63a",
   "metadata": {},
   "outputs": [
    {
     "data": {
      "text/plain": [
       "0.171875"
      ]
     },
     "execution_count": 7,
     "metadata": {},
     "output_type": "execute_result"
    }
   ],
   "source": [
    "1 - binom.cdf(n=10, p=0.5, k=6)"
   ]
  },
  {
   "cell_type": "code",
   "execution_count": 8,
   "id": "c15de7fc",
   "metadata": {},
   "outputs": [],
   "source": [
    "alpha = 0.05"
   ]
  },
  {
   "cell_type": "code",
   "execution_count": 9,
   "id": "7c493ed6",
   "metadata": {},
   "outputs": [
    {
     "name": "stdout",
     "output_type": "stream",
     "text": [
      "Fail to reject H0\n",
      "Fair coin\n"
     ]
    }
   ],
   "source": [
    "# 7 Heads out of 10\n",
    "p_value = 1 - binom.cdf(n=10, p=0.5, k=6)\n",
    "if p_value < alpha:\n",
    "    print(\"Reject H0\")\n",
    "    print(\"Biased coin\")\n",
    "else:\n",
    "    print(\"Fail to reject H0\")\n",
    "    print(\"Fair coin\")"
   ]
  },
  {
   "cell_type": "code",
   "execution_count": 10,
   "id": "e1184dca",
   "metadata": {},
   "outputs": [
    {
     "name": "stdout",
     "output_type": "stream",
     "text": [
      "3.925069822796612e-05\n",
      "Reject H0\n",
      "Biased coin\n"
     ]
    }
   ],
   "source": [
    "# 70 heads out of 100\n",
    "p_value = 1 - binom.cdf(n=100, p=0.5, k=69)\n",
    "print(p_value)\n",
    "if p_value < alpha:\n",
    "    print(\"Reject H0\")\n",
    "    print(\"Biased coin\")\n",
    "else:\n",
    "    print(\"Fail to reject H0\")\n",
    "    print(\"Fair coin\")"
   ]
  },
  {
   "cell_type": "code",
   "execution_count": 11,
   "id": "5c517762",
   "metadata": {},
   "outputs": [
    {
     "name": "stdout",
     "output_type": "stream",
     "text": [
      "0.0\n",
      "Reject H0\n",
      "Biased coin\n"
     ]
    }
   ],
   "source": [
    "# 700 heads out of 1000\n",
    "p_value = 1 - binom.cdf(n=1000, p=0.5, k=699)\n",
    "print(p_value)\n",
    "if p_value < alpha:\n",
    "    print(\"Reject H0\")\n",
    "    print(\"Biased coin\")\n",
    "else:\n",
    "    print(\"Fail to reject H0\")\n",
    "    print(\"Fair coin\")"
   ]
  }
 ],
 "metadata": {
  "kernelspec": {
   "display_name": "Python 3 (ipykernel)",
   "language": "python",
   "name": "python3"
  },
  "language_info": {
   "codemirror_mode": {
    "name": "ipython",
    "version": 3
   },
   "file_extension": ".py",
   "mimetype": "text/x-python",
   "name": "python",
   "nbconvert_exporter": "python",
   "pygments_lexer": "ipython3",
   "version": "3.8.12"
  }
 },
 "nbformat": 4,
 "nbformat_minor": 5
}
